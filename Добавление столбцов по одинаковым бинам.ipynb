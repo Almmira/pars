{
 "cells": [
  {
   "cell_type": "code",
   "execution_count": 1,
   "id": "a9a3aed9",
   "metadata": {},
   "outputs": [
    {
     "name": "stdout",
     "output_type": "stream",
     "text": [
      "Requirement already satisfied: pandas in c:\\users\\kotle\\anaconda3\\lib\\site-packages (1.5.3)\n",
      "Requirement already satisfied: openpyxl in c:\\users\\kotle\\anaconda3\\lib\\site-packages (3.0.10)\n",
      "Requirement already satisfied: python-dateutil>=2.8.1 in c:\\users\\kotle\\anaconda3\\lib\\site-packages (from pandas) (2.8.2)\n",
      "Requirement already satisfied: pytz>=2020.1 in c:\\users\\kotle\\anaconda3\\lib\\site-packages (from pandas) (2022.7)\n",
      "Requirement already satisfied: numpy>=1.21.0 in c:\\users\\kotle\\anaconda3\\lib\\site-packages (from pandas) (1.24.3)\n",
      "Requirement already satisfied: et_xmlfile in c:\\users\\kotle\\anaconda3\\lib\\site-packages (from openpyxl) (1.1.0)\n",
      "Requirement already satisfied: six>=1.5 in c:\\users\\kotle\\anaconda3\\lib\\site-packages (from python-dateutil>=2.8.1->pandas) (1.16.0)\n",
      "Note: you may need to restart the kernel to use updated packages.\n"
     ]
    }
   ],
   "source": [
    "pip install pandas openpyxl"
   ]
  },
  {
   "cell_type": "markdown",
   "id": "e7bf5032",
   "metadata": {},
   "source": [
    "# Добавление столбцов по одинаковым бинам"
   ]
  },
  {
   "cell_type": "code",
   "execution_count": 1,
   "id": "8269403d",
   "metadata": {},
   "outputs": [],
   "source": [
    "import pandas as pd"
   ]
  },
  {
   "cell_type": "code",
   "execution_count": 2,
   "id": "d069f0ba",
   "metadata": {},
   "outputs": [],
   "source": [
    "df1 = pd.read_excel('итог 20.02 — копия.xlsx')  # Первый файл\n",
    "df2 = pd.read_excel('кол.xlsx')  # Второй файл, содержащий данные"
   ]
  },
  {
   "cell_type": "code",
   "execution_count": 3,
   "id": "9354fdf4",
   "metadata": {},
   "outputs": [],
   "source": [
    "#если бины даны не в формате 12 цифр, то можно добавить нули перед бином таким способом\n",
    "id_list = df2['business_id'].astype(str).str.zfill(12)"
   ]
  },
  {
   "cell_type": "code",
   "execution_count": 4,
   "id": "5cdfdf68",
   "metadata": {},
   "outputs": [
    {
     "data": {
      "text/plain": [
       "0        000140000280\n",
       "1        000140000290\n",
       "2        000140000875\n",
       "3        000140000914\n",
       "4        000140001764\n",
       "             ...     \n",
       "11922    991240006914\n",
       "11923    991240007605\n",
       "11924    991240009483\n",
       "11925    991240010239\n",
       "11926    991240015359\n",
       "Name: business_id, Length: 11927, dtype: object"
      ]
     },
     "execution_count": 4,
     "metadata": {},
     "output_type": "execute_result"
    }
   ],
   "source": [
    "id_list"
   ]
  },
  {
   "cell_type": "code",
   "execution_count": 5,
   "id": "cadbe0a1",
   "metadata": {},
   "outputs": [],
   "source": [
    "# Список столбцов для добавления из df2\n",
    "columns_to_merge = ['business_id', 'Спутник', 'ADSL', 'EVDO', 'FTTx', 'LTE']\n",
    "\n",
    "# Объединение df1 и df2 по столбцу business_id и добавление указанных столбцов\n",
    "merged_df = pd.merge(df1, df2[columns_to_merge], on='business_id', how='left')"
   ]
  },
  {
   "cell_type": "code",
   "execution_count": 8,
   "id": "b1b746df",
   "metadata": {},
   "outputs": [],
   "source": [
    "# В результате объединения, столбец данных из df2 будет добавлен к df1\n",
    "# Шаг 3: Сохранение результата обратно в Excel\n",
    "merged_df.to_excel('обновленный_кол.xlsx', index=False)"
   ]
  },
  {
   "cell_type": "code",
   "execution_count": null,
   "id": "df2e3b53",
   "metadata": {},
   "outputs": [],
   "source": []
  }
 ],
 "metadata": {
  "kernelspec": {
   "display_name": "Python 3 (ipykernel)",
   "language": "python",
   "name": "python3"
  },
  "language_info": {
   "codemirror_mode": {
    "name": "ipython",
    "version": 3
   },
   "file_extension": ".py",
   "mimetype": "text/x-python",
   "name": "python",
   "nbconvert_exporter": "python",
   "pygments_lexer": "ipython3",
   "version": "3.11.3"
  }
 },
 "nbformat": 4,
 "nbformat_minor": 5
}
