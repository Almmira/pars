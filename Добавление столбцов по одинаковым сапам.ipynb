{
 "cells": [
  {
   "cell_type": "code",
   "execution_count": 1,
   "id": "a9a3aed9",
   "metadata": {},
   "outputs": [
    {
     "name": "stdout",
     "output_type": "stream",
     "text": [
      "Requirement already satisfied: pandas in c:\\users\\kotle\\anaconda3\\lib\\site-packages (1.5.3)\n",
      "Requirement already satisfied: openpyxl in c:\\users\\kotle\\anaconda3\\lib\\site-packages (3.0.10)\n",
      "Requirement already satisfied: python-dateutil>=2.8.1 in c:\\users\\kotle\\anaconda3\\lib\\site-packages (from pandas) (2.8.2)\n",
      "Requirement already satisfied: pytz>=2020.1 in c:\\users\\kotle\\anaconda3\\lib\\site-packages (from pandas) (2022.7)\n",
      "Requirement already satisfied: numpy>=1.21.0 in c:\\users\\kotle\\anaconda3\\lib\\site-packages (from pandas) (1.24.3)\n",
      "Requirement already satisfied: et_xmlfile in c:\\users\\kotle\\anaconda3\\lib\\site-packages (from openpyxl) (1.1.0)\n",
      "Requirement already satisfied: six>=1.5 in c:\\users\\kotle\\anaconda3\\lib\\site-packages (from python-dateutil>=2.8.1->pandas) (1.16.0)\n",
      "Note: you may need to restart the kernel to use updated packages.\n"
     ]
    }
   ],
   "source": [
    "pip install pandas openpyxl"
   ]
  },
  {
   "cell_type": "markdown",
   "id": "e7bf5032",
   "metadata": {},
   "source": [
    "# Добавление столбцов по одинаковым сапам"
   ]
  },
  {
   "cell_type": "markdown",
   "id": "13eba64b",
   "metadata": {},
   "source": [
    "Код, где оттуда файл имеет скрытые значения"
   ]
  },
  {
   "cell_type": "code",
   "execution_count": 1,
   "id": "8269403d",
   "metadata": {},
   "outputs": [],
   "source": [
    "import pandas as pd"
   ]
  },
  {
   "cell_type": "code",
   "execution_count": 2,
   "id": "d069f0ba",
   "metadata": {},
   "outputs": [],
   "source": [
    "# Чтение данных из файлов Excel\n",
    "df1 = pd.read_excel('сюдановый.xlsx')  # Данные с SAP кодами в одном столбце\n",
    "df2 = pd.read_excel('оттуда_.xlsx')  # Данные для добавления"
   ]
  },
  {
   "cell_type": "code",
   "execution_count": 3,
   "id": "ef0abc01",
   "metadata": {},
   "outputs": [
    {
     "name": "stdout",
     "output_type": "stream",
     "text": [
      "Index(['Код услуги связи', 'Наименование показателей', 'Услуга (группа)',\n",
      "       'п/гр'],\n",
      "      dtype='object')\n"
     ]
    }
   ],
   "source": [
    "print(df2.columns)\n"
   ]
  },
  {
   "cell_type": "code",
   "execution_count": 4,
   "id": "cadbe0a1",
   "metadata": {},
   "outputs": [],
   "source": [
    "# Преобразование столбца с SAP кодами в список (предполагая, что коды разделены запятой)\n",
    "df1['Sap code'] = df1['Sap code'].apply(lambda x: x.split(','))"
   ]
  },
  {
   "cell_type": "code",
   "execution_count": 5,
   "id": "9925a729",
   "metadata": {},
   "outputs": [],
   "source": [
    "# Расширение DataFrame так, чтобы каждый SAP код был в отдельной строке\n",
    "df1_exploded = df1.explode('Sap code')"
   ]
  },
  {
   "cell_type": "code",
   "execution_count": 6,
   "id": "9300c703",
   "metadata": {},
   "outputs": [],
   "source": [
    "# Удаление пробелов в начале строк в столбце 'sap_code'\n",
    "df1_exploded['Sap code'] = df1_exploded['Sap code'].str.lstrip()"
   ]
  },
  {
   "cell_type": "code",
   "execution_count": 7,
   "id": "b1b746df",
   "metadata": {},
   "outputs": [],
   "source": [
    "# Слияние расширенного DataFrame с df2 по SAP кодам\n",
    "# Обновлено с учетом названия столбца \"код услуги SAP\" в df2\n",
    "merged_df = pd.merge(df1_exploded, df2, left_on='Sap code', right_on='Код услуги связи', how='left')"
   ]
  },
  {
   "cell_type": "code",
   "execution_count": 8,
   "id": "df2e3b53",
   "metadata": {},
   "outputs": [],
   "source": [
    "# Агрегация данных по 'business_id' и 'business_name_ru'\n",
    "aggregated_df = merged_df.groupby(['business_id', 'business_name_ru']).agg({\n",
    "    'Sap code': lambda x: ', '.join(x.astype(str)),\n",
    "    'Код услуги связи': lambda x: ', '.join(x.astype(str)),\n",
    "    'Наименование показателей': lambda x: ', '.join(x.astype(str)),\n",
    "    'Услуга (группа)': lambda x: ', '.join(x.astype(str)),\n",
    "    'п/гр': lambda x: ', '.join(x.astype(str))\n",
    "}).reset_index()"
   ]
  },
  {
   "cell_type": "code",
   "execution_count": 9,
   "id": "ea3cf120",
   "metadata": {},
   "outputs": [],
   "source": [
    "# Сохраняем результат в Excel\n",
    "aggregated_df.to_excel('самый последний2версия.xlsx', index=False)"
   ]
  },
  {
   "cell_type": "code",
   "execution_count": null,
   "id": "358d9bef",
   "metadata": {},
   "outputs": [],
   "source": []
  },
  {
   "cell_type": "code",
   "execution_count": null,
   "id": "aa675614",
   "metadata": {},
   "outputs": [],
   "source": [
    "#для замены нан на -\n",
    "# Предположим, aggregated_df - это ваш агрегированный DataFrame\n",
    "\n",
    "# Замена всех NaN на -\n",
    "aggregated_df.fillna('-', inplace=True)\n",
    "\n",
    "# Сохранение результата в файл Excel\n",
    "aggregated_df.to_excel('ваш_файл.xlsx', index=False)\n"
   ]
  },
  {
   "cell_type": "code",
   "execution_count": null,
   "id": "8d19efa4",
   "metadata": {},
   "outputs": [],
   "source": []
  }
 ],
 "metadata": {
  "kernelspec": {
   "display_name": "Python 3 (ipykernel)",
   "language": "python",
   "name": "python3"
  },
  "language_info": {
   "codemirror_mode": {
    "name": "ipython",
    "version": 3
   },
   "file_extension": ".py",
   "mimetype": "text/x-python",
   "name": "python",
   "nbconvert_exporter": "python",
   "pygments_lexer": "ipython3",
   "version": "3.11.3"
  }
 },
 "nbformat": 4,
 "nbformat_minor": 5
}
