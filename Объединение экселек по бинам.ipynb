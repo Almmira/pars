{
 "cells": [
  {
   "cell_type": "code",
   "execution_count": 1,
   "id": "a9a3aed9",
   "metadata": {},
   "outputs": [
    {
     "name": "stdout",
     "output_type": "stream",
     "text": [
      "Requirement already satisfied: pandas in c:\\users\\kotle\\anaconda3\\lib\\site-packages (1.5.3)\n",
      "Requirement already satisfied: openpyxl in c:\\users\\kotle\\anaconda3\\lib\\site-packages (3.0.10)\n",
      "Requirement already satisfied: python-dateutil>=2.8.1 in c:\\users\\kotle\\anaconda3\\lib\\site-packages (from pandas) (2.8.2)\n",
      "Requirement already satisfied: pytz>=2020.1 in c:\\users\\kotle\\anaconda3\\lib\\site-packages (from pandas) (2022.7)\n",
      "Requirement already satisfied: numpy>=1.21.0 in c:\\users\\kotle\\anaconda3\\lib\\site-packages (from pandas) (1.24.3)\n",
      "Requirement already satisfied: et_xmlfile in c:\\users\\kotle\\anaconda3\\lib\\site-packages (from openpyxl) (1.1.0)\n",
      "Requirement already satisfied: six>=1.5 in c:\\users\\kotle\\anaconda3\\lib\\site-packages (from python-dateutil>=2.8.1->pandas) (1.16.0)\n",
      "Note: you may need to restart the kernel to use updated packages.\n"
     ]
    }
   ],
   "source": [
    "pip install pandas openpyxl"
   ]
  },
  {
   "cell_type": "markdown",
   "id": "e7bf5032",
   "metadata": {},
   "source": [
    "# Добавление столбца по одинаковым бинам"
   ]
  },
  {
   "cell_type": "code",
   "execution_count": 30,
   "id": "8269403d",
   "metadata": {},
   "outputs": [],
   "source": [
    "import pandas as pd"
   ]
  },
  {
   "cell_type": "code",
   "execution_count": 31,
   "id": "d069f0ba",
   "metadata": {},
   "outputs": [],
   "source": [
    "df1 = pd.read_excel('сюда.xlsx')  # Первый файл\n",
    "df2 = pd.read_excel('оттуда.xlsx')  # Второй файл, содержащий legal_address"
   ]
  },
  {
   "cell_type": "code",
   "execution_count": 32,
   "id": "9354fdf4",
   "metadata": {},
   "outputs": [],
   "source": [
    "#если бины даны не в формате 12 цифр, то можно добавить нули перед бином таким способом\n",
    "id_list = df2['business_id'].astype(str).str.zfill(12)"
   ]
  },
  {
   "cell_type": "code",
   "execution_count": 33,
   "id": "5cdfdf68",
   "metadata": {},
   "outputs": [
    {
     "data": {
      "text/plain": [
       "0       861203402205.0\n",
       "1       970126400171.0\n",
       "2       970709400903.0\n",
       "3        31106600482.0\n",
       "4       510212301126.0\n",
       "             ...      \n",
       "8739    910808000172.0\n",
       "8740    941025450027.0\n",
       "8741    960627451673.0\n",
       "8742    840402402885.0\n",
       "8743    861218301728.0\n",
       "Name: business_id, Length: 8744, dtype: object"
      ]
     },
     "execution_count": 33,
     "metadata": {},
     "output_type": "execute_result"
    }
   ],
   "source": [
    "id_list"
   ]
  },
  {
   "cell_type": "code",
   "execution_count": 34,
   "id": "cadbe0a1",
   "metadata": {},
   "outputs": [],
   "source": [
    "# Шаг 2: Сравнение и объединение данных\n",
    "# Предполагается, что столбец для сравнения называется \"business_id\" в обоих файлах\n",
    "merged_df = pd.merge(df1, df2[['business_id', 'legal_address']], on='business_id', how='left')"
   ]
  },
  {
   "cell_type": "code",
   "execution_count": 35,
   "id": "b1b746df",
   "metadata": {},
   "outputs": [],
   "source": [
    "# В результате объединения, столбец `legal_address` из df2 будет добавлен к df1\n",
    "# Шаг 3: Сохранение результата обратно в Excel\n",
    "merged_df.to_excel('обновленный_сюда.xlsx', index=False)"
   ]
  },
  {
   "cell_type": "code",
   "execution_count": null,
   "id": "df2e3b53",
   "metadata": {},
   "outputs": [],
   "source": []
  }
 ],
 "metadata": {
  "kernelspec": {
   "display_name": "Python 3 (ipykernel)",
   "language": "python",
   "name": "python3"
  },
  "language_info": {
   "codemirror_mode": {
    "name": "ipython",
    "version": 3
   },
   "file_extension": ".py",
   "mimetype": "text/x-python",
   "name": "python",
   "nbconvert_exporter": "python",
   "pygments_lexer": "ipython3",
   "version": "3.11.3"
  }
 },
 "nbformat": 4,
 "nbformat_minor": 5
}
