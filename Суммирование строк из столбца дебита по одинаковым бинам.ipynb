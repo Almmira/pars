{
 "cells": [
  {
   "cell_type": "markdown",
   "id": "d413bce7",
   "metadata": {},
   "source": [
    "# Суммирование строк из столбца дебита по одинаковым бинам"
   ]
  },
  {
   "cell_type": "code",
   "execution_count": 5,
   "id": "d519671d",
   "metadata": {},
   "outputs": [],
   "source": [
    "import pandas as pd"
   ]
  },
  {
   "cell_type": "code",
   "execution_count": 6,
   "id": "22dfc591",
   "metadata": {},
   "outputs": [],
   "source": [
    "df = pd.read_excel('дебитянварь.xlsx')"
   ]
  },
  {
   "cell_type": "code",
   "execution_count": 8,
   "id": "e045be6d",
   "metadata": {},
   "outputs": [],
   "source": [
    "# Группировка данных по 'identification_number' и суммирование значений 'sum_debit_without_nds'\n",
    "grouped_df = df.groupby('bin')['Sum(sum_debit)'].sum().reset_index()"
   ]
  },
  {
   "cell_type": "code",
   "execution_count": 10,
   "id": "bcb112df",
   "metadata": {},
   "outputs": [],
   "source": [
    "# Сохранение результата в новый файл Excel\n",
    "grouped_df.to_excel('summarized_data_дебитянварь.xlsx', index=False)"
   ]
  },
  {
   "cell_type": "code",
   "execution_count": null,
   "id": "8b6f13d8",
   "metadata": {},
   "outputs": [],
   "source": []
  }
 ],
 "metadata": {
  "kernelspec": {
   "display_name": "Python 3 (ipykernel)",
   "language": "python",
   "name": "python3"
  },
  "language_info": {
   "codemirror_mode": {
    "name": "ipython",
    "version": 3
   },
   "file_extension": ".py",
   "mimetype": "text/x-python",
   "name": "python",
   "nbconvert_exporter": "python",
   "pygments_lexer": "ipython3",
   "version": "3.11.3"
  }
 },
 "nbformat": 4,
 "nbformat_minor": 5
}
